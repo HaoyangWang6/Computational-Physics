{
 "cells": [
  {
   "cell_type": "code",
   "execution_count": null,
   "metadata": {},
   "outputs": [],
   "source": [
    "import numpy as np\n",
    "import matplotlib.pyplot as plt\n",
    "import pandas as pd"
   ]
  },
  {
   "cell_type": "code",
   "execution_count": null,
   "metadata": {},
   "outputs": [],
   "source": [
    "def func(x):\n",
    "    return np.exp(x)"
   ]
  },
  {
   "cell_type": "code",
   "execution_count": null,
   "metadata": {},
   "outputs": [],
   "source": [
    "def second_derivative(f, x, h):\n",
    "    return (-f(x + 2*h) + 16*f(x + h) - 30*f(x) + 16*f(x - h) - f(x - 2*h))/(12*(h**2))"
   ]
  },
  {
   "cell_type": "code",
   "execution_count": null,
   "metadata": {},
   "outputs": [],
   "source": [
    "def epsilon(f, x, h):\n",
    "    return np.abs(f(x) - second_derivative(f, x, h)) / f(x)"
   ]
  },
  {
   "cell_type": "code",
   "execution_count": null,
   "metadata": {},
   "outputs": [],
   "source": [
    "# 定义x和h的取值\n",
    "x_values = [0.0, 1.0, 2.0, 3.0, 4.0, 5.0]\n",
    "h_values = [0.1, 0.01, 0.001, 0.0001, 0.00001, 0.000001, 0.0000001]"
   ]
  },
  {
   "cell_type": "code",
   "execution_count": null,
   "metadata": {},
   "outputs": [],
   "source": [
    "# 生成表格数据\n",
    "columns = ['x'] + [f'h={h:.7f}' for h in h_values] + ['True Value']\n",
    "data = []\n",
    "for x in x_values:\n",
    "    true_val = func(x)\n",
    "    row = [x]\n",
    "    for h in h_values:\n",
    "        approx = second_derivative(func, x, h)\n",
    "        row.append(approx)\n",
    "    row.append(true_val)\n",
    "    data.append(row)"
   ]
  },
  {
   "cell_type": "code",
   "execution_count": null,
   "metadata": {},
   "outputs": [],
   "source": [
    "# 创建DataFrame（取消科学计数法）\n",
    "df = pd.DataFrame(data, columns=columns)\n",
    "pd.reset_option('display.float_format')  # 重置显示格式为默认\n",
    "print(\"二阶导数近似值与真实值表格：\")\n",
    "print(df.to_string(index=False, float_format=\"{:.8f}\".format))  # 显式指定8位小数"
   ]
  },
  {
   "cell_type": "code",
   "execution_count": null,
   "metadata": {},
   "outputs": [],
   "source": [
    "# 绘制相对误差图\n",
    "plt.figure(figsize=(10, 6))\n",
    "for x in x_values:\n",
    "    epsilons = [epsilon(func, x, h) for h in h_values]\n",
    "    log_h = [np.log10(h) for h in h_values]\n",
    "    plt.plot(log_h, epsilons, marker='o', linestyle='-', label=f'x={x}')\n",
    "\n",
    "plt.xlabel('log10(h)')\n",
    "plt.ylabel('Relative Error (log scale)')\n",
    "plt.yscale('log')\n",
    "plt.title('Relative Error of Second Derivative Approximation vs. log10(h)')\n",
    "plt.legend()\n",
    "plt.grid(True, which='both', linestyle='--', linewidth=0.5)\n",
    "plt.show()"
   ]
  }
 ],
 "metadata": {
  "kernelspec": {
   "display_name": "Python 3",
   "language": "python",
   "name": "python3"
  },
  "language_info": {
   "codemirror_mode": {
    "name": "ipython",
    "version": 3
   },
   "file_extension": ".py",
   "mimetype": "text/x-python",
   "name": "python",
   "nbconvert_exporter": "python",
   "pygments_lexer": "ipython3",
   "version": "3.13.2"
  }
 },
 "nbformat": 4,
 "nbformat_minor": 2
}
