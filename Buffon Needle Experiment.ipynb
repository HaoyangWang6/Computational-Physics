{
 "cells": [
  {
   "cell_type": "code",
   "execution_count": null,
   "metadata": {},
   "outputs": [
    {
     "name": "stdout",
     "output_type": "stream",
     "text": [
      "Estimated value of pi: 3.1390226025322496\n"
     ]
    }
   ],
   "source": [
    "import numpy as np\n",
    "import matplotlib.pyplot as plt"
   ]
  },
  {
   "cell_type": "markdown",
   "metadata": {},
   "source": [
    "布丰投针实验"
   ]
  },
  {
   "cell_type": "code",
   "execution_count": null,
   "metadata": {},
   "outputs": [],
   "source": [
    "# Parameters\n",
    "num_trials = 1000000\n",
    "needle_length = 1.0\n",
    "line_distance = 1.0\n",
    "\n",
    "def buffon_needle_experiment(num_trials, needle_length, line_distance):\n",
    "    hits = 0\n",
    "\n",
    "    for _ in range(num_trials):\n",
    "        # Randomly generate the position of the needle's center\n",
    "        center_position = np.random.uniform(0, line_distance / 2)\n",
    "        # Randomly generate the angle of the needle\n",
    "        angle = np.random.uniform(0, np.pi / 2)\n",
    "\n",
    "        # Calculate the distance from the center of the needle to the nearest line\n",
    "        distance_to_line = center_position - (needle_length / 2) * np.sin(angle)\n",
    "\n",
    "        # Check if the needle crosses a line\n",
    "        if distance_to_line <= 0:\n",
    "            hits += 1\n",
    "\n",
    "    # Estimate the value of pi\n",
    "    pi_estimate = (2 * needle_length * num_trials) / (hits * line_distance)\n",
    "    return pi_estimate\n",
    "\n",
    "\n",
    "# Run the experiment\n",
    "pi_estimate = buffon_needle_experiment(num_trials, needle_length, line_distance)\n",
    "print(f\"Estimated value of pi: {pi_estimate}\")"
   ]
  }
 ],
 "metadata": {
  "kernelspec": {
   "display_name": "Python 3",
   "language": "python",
   "name": "python3"
  },
  "language_info": {
   "codemirror_mode": {
    "name": "ipython",
    "version": 3
   },
   "file_extension": ".py",
   "mimetype": "text/x-python",
   "name": "python",
   "nbconvert_exporter": "python",
   "pygments_lexer": "ipython3",
   "version": "3.12.2"
  }
 },
 "nbformat": 4,
 "nbformat_minor": 2
}
