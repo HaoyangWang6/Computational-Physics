{
 "cells": [
  {
   "cell_type": "code",
   "execution_count": 1,
   "metadata": {},
   "outputs": [
    {
     "name": "stdout",
     "output_type": "stream",
     "text": [
      "根: 0.500002\n",
      "函数值: 1.907e-06\n",
      "绝对误差: 1.907e-06\n"
     ]
    }
   ],
   "source": [
    "# 导入numpy库，用于数值计算（注：此处代码未直接使用，可能为后续扩展预留）\n",
    "import numpy as np\n",
    "\n",
    "\n",
    "def func(x):\n",
    "    \"\"\"定义目标函数示例：f(x) = x - 0.5\"\"\"\n",
    "    return x - 0.5\n",
    "\n",
    "\n",
    "def bisection_method(f, a, b, tol):\n",
    "    \"\"\"\n",
    "    二分法求根函数\n",
    "    参数：\n",
    "        f   : 目标函数\n",
    "        a   : 区间左端点\n",
    "        b   : 区间右端点\n",
    "        tol : 容差阈值\n",
    "    返回：\n",
    "        近似根值\n",
    "    \"\"\"\n",
    "    # 检查初始区间是否有效（函数值需异号）\n",
    "    if f(a) * f(b) >= 0:\n",
    "        raise ValueError(\"区间端点函数值必须异号\")\n",
    "\n",
    "    # 主循环：当区间半长大于容差时持续迭代\n",
    "    while (b - a) / 2 > tol:\n",
    "        c = (a + b) / 2  # 计算区间中点\n",
    "        fc = f(c)\n",
    "\n",
    "        if fc == 0:  # 刚好命中根值\n",
    "            return c\n",
    "        elif f(a) * fc < 0:  # 根在左半区间\n",
    "            b = c\n",
    "        else:  # 根在右半区间\n",
    "            a = c\n",
    "\n",
    "    # 返回最终区间的中点作为近似解\n",
    "    return (a + b) / 2\n",
    "\n",
    "\n",
    "if __name__ == \"__main__\":\n",
    "    # 参数设置\n",
    "    a = 0.0  # 初始区间左端\n",
    "    b = 5.0  # 初始区间右端\n",
    "    tol = 1e-5  # 计算容差\n",
    "\n",
    "    # 执行二分法求根\n",
    "    root = bisection_method(func, a, b, tol)\n",
    "\n",
    "    # 结果输出\n",
    "    print(f\"根: {root:.6f}\")  # 格式化输出保留6位小数\n",
    "    print(f\"函数值: {func(root):.3e}\")  # 科学计数法显示\n",
    "    print(f\"绝对误差: {abs(func(root)):.3e}\")"
   ]
  }
 ],
 "metadata": {
  "kernelspec": {
   "display_name": "Python 3",
   "language": "python",
   "name": "python3"
  },
  "language_info": {
   "codemirror_mode": {
    "name": "ipython",
    "version": 3
   },
   "file_extension": ".py",
   "mimetype": "text/x-python",
   "name": "python",
   "nbconvert_exporter": "python",
   "pygments_lexer": "ipython3",
   "version": "3.13.2"
  }
 },
 "nbformat": 4,
 "nbformat_minor": 2
}
