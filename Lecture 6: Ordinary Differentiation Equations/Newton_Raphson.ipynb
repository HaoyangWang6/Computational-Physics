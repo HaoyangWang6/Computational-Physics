{
 "cells": [
  {
   "cell_type": "code",
   "execution_count": 1,
   "metadata": {},
   "outputs": [
    {
     "name": "stdout",
     "output_type": "stream",
     "text": [
      "Root found: 1.0000198282189723\n"
     ]
    }
   ],
   "source": [
    "# 导入numpy库（注：当前代码未直接使用，可能为后续扩展保留）\n",
    "import numpy as np\n",
    "\n",
    "\n",
    "def func(x, h):\n",
    "    \"\"\"\n",
    "    计算函数值及其数值导数（前向差分法）\n",
    "    :param x: 自变量值\n",
    "    :param h: 差分步长\n",
    "    :return: (fx, fpx) 函数值和导数值近似\n",
    "    \"\"\"\n",
    "    fx = x**2 - 2 * x + 1  # 计算函数值 f(x) = x² - 2x + 1\n",
    "    fpx = ((x + h) ** 2 - 2 * (x + h) + 1 - fx) / h  # 前向差分法计算导数值近似\n",
    "    return fx, fpx\n",
    "\n",
    "\n",
    "def newton_raphson(f, x0, tol, max_iter):\n",
    "    \"\"\"\n",
    "    牛顿-拉夫森迭代法求根\n",
    "    :param f: 返回函数值和导数的函数\n",
    "    :param x0: 初始猜测值\n",
    "    :param tol: 收敛容差\n",
    "    :param max_iter: 最大迭代次数\n",
    "    :return: 找到的根\n",
    "    \"\"\"\n",
    "    x = x0\n",
    "    for _ in range(max_iter):\n",
    "        fx, fpx = f(x, 1e-5)  # 计算当前点的函数值和导数值（固定步长1e-5）\n",
    "        if abs(fx) < tol:  # 若函数值满足容差要求，返回当前解\n",
    "            return x\n",
    "        if abs(fpx) < tol:  # 若导数值过小，可能引发除零错误，提前终止\n",
    "            raise ValueError(\"Derivative too small\")\n",
    "        x = x - fx / fpx  # 牛顿法核心迭代公式\n",
    "    raise ValueError(\"Maximum iterations exceeded\")  # 超最大迭代次数未收敛\n",
    "\n",
    "\n",
    "if __name__ == \"__main__\":\n",
    "    # 参数设置\n",
    "    x0 = 1.5  # 初始猜测值\n",
    "    tol = 1e-9  # 收敛容差\n",
    "    max_iter = 10000  # 最大迭代次数\n",
    "\n",
    "    try:\n",
    "        root = newton_raphson(func, x0, tol, max_iter)  # 调用牛顿法求解\n",
    "        print(f\"Root found: {root}\")\n",
    "    except ValueError as e:  # 捕获并处理可能的异常\n",
    "        print(e)"
   ]
  }
 ],
 "metadata": {
  "kernelspec": {
   "display_name": "Python 3",
   "language": "python",
   "name": "python3"
  },
  "language_info": {
   "codemirror_mode": {
    "name": "ipython",
    "version": 3
   },
   "file_extension": ".py",
   "mimetype": "text/x-python",
   "name": "python",
   "nbconvert_exporter": "python",
   "pygments_lexer": "ipython3",
   "version": "3.13.2"
  }
 },
 "nbformat": 4,
 "nbformat_minor": 2
}
